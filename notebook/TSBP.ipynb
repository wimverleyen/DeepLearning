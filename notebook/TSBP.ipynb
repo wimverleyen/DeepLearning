{
 "cells": [
  {
   "cell_type": "code",
   "execution_count": 119,
   "metadata": {},
   "outputs": [],
   "source": [
    "import sys\n",
    "\n",
    "import pandas as pd\n",
    "import numpy as np\n",
    "\n",
    "from sklearn.cluster import KMeans\n",
    "from sklearn.metrics import silhouette_score, silhouette_samples\n",
    "from sklearn.decomposition import PCA\n",
    "from sklearn.kernel_ridge import KernelRidge\n",
    "from sklearn.svm import SVR\n",
    "\n",
    "import statsmodels.nonparametric.api as nparam\n",
    "\n",
    "%matplotlib inline\n",
    "import matplotlib.pyplot as plt\n",
    "import matplotlib.cm as cm\n",
    "\n",
    "sys.path.append('/home/laptop/Documents/code/DL/DeepLearning/')"
   ]
  },
  {
   "cell_type": "markdown",
   "metadata": {},
   "source": [
    "# TSBP model developement\n",
    "Trajectory based similarity prediction models can be constructed following the floowing steps:\n",
    "1. Clustering to identify regimen\n",
    "1. Normalize data related to each regiment $\\mu$ and $\\sigma$\n",
    "1. Variable weighting: $eSNR$\n",
    "1. Principal component analysis (PCA): eliminate colinearity ($\\sigma < 0.9$)\n",
    "1. Kernel regression (non-parametric)\n",
    "1. Similarity measure\n",
    "1. Aggregation"
   ]
  },
  {
   "cell_type": "code",
   "execution_count": 13,
   "metadata": {},
   "outputs": [],
   "source": [
    "DATA_DIR = '/home/laptop/Documents/data/aviation/NASA/Challenge_Data/'\n",
    "FIG_DIR = '/home/laptop/Documents/data/aviation/NASA/Challenge_Data/figures/'\n",
    "REPORT_DIR = \"/home/laptop/Documents/data/aviation/NASA/Challenge_Data/reports/\""
   ]
  },
  {
   "cell_type": "code",
   "execution_count": 99,
   "metadata": {},
   "outputs": [
    {
     "data": {
      "text/html": [
       "<div>\n",
       "<style scoped>\n",
       "    .dataframe tbody tr th:only-of-type {\n",
       "        vertical-align: middle;\n",
       "    }\n",
       "\n",
       "    .dataframe tbody tr th {\n",
       "        vertical-align: top;\n",
       "    }\n",
       "\n",
       "    .dataframe thead th {\n",
       "        text-align: right;\n",
       "    }\n",
       "</style>\n",
       "<table border=\"1\" class=\"dataframe\">\n",
       "  <thead>\n",
       "    <tr style=\"text-align: right;\">\n",
       "      <th></th>\n",
       "      <th>device_id</th>\n",
       "      <th>cycles</th>\n",
       "      <th>setting1</th>\n",
       "      <th>setting2</th>\n",
       "      <th>setting3</th>\n",
       "      <th>sensor1</th>\n",
       "      <th>sensor2</th>\n",
       "      <th>sensor3</th>\n",
       "      <th>sensor4</th>\n",
       "      <th>sensor5</th>\n",
       "      <th>...</th>\n",
       "      <th>sensor15</th>\n",
       "      <th>sensor16</th>\n",
       "      <th>sensor17</th>\n",
       "      <th>sensor18</th>\n",
       "      <th>sensor19</th>\n",
       "      <th>sensor20</th>\n",
       "      <th>sensor21</th>\n",
       "      <th>sensor22</th>\n",
       "      <th>sensor23</th>\n",
       "      <th>RUL</th>\n",
       "    </tr>\n",
       "  </thead>\n",
       "  <tbody>\n",
       "    <tr>\n",
       "      <th>0</th>\n",
       "      <td>1</td>\n",
       "      <td>1</td>\n",
       "      <td>10.0047</td>\n",
       "      <td>0.2501</td>\n",
       "      <td>20.0</td>\n",
       "      <td>489.05</td>\n",
       "      <td>604.13</td>\n",
       "      <td>1499.45</td>\n",
       "      <td>1309.95</td>\n",
       "      <td>10.52</td>\n",
       "      <td>...</td>\n",
       "      <td>8.6216</td>\n",
       "      <td>0.03</td>\n",
       "      <td>368</td>\n",
       "      <td>2319</td>\n",
       "      <td>100.0</td>\n",
       "      <td>28.58</td>\n",
       "      <td>17.1735</td>\n",
       "      <td>NaN</td>\n",
       "      <td>NaN</td>\n",
       "      <td>356.0</td>\n",
       "    </tr>\n",
       "    <tr>\n",
       "      <th>1</th>\n",
       "      <td>1</td>\n",
       "      <td>2</td>\n",
       "      <td>0.0015</td>\n",
       "      <td>0.0003</td>\n",
       "      <td>100.0</td>\n",
       "      <td>518.67</td>\n",
       "      <td>642.13</td>\n",
       "      <td>1584.55</td>\n",
       "      <td>1403.96</td>\n",
       "      <td>14.62</td>\n",
       "      <td>...</td>\n",
       "      <td>8.3907</td>\n",
       "      <td>0.03</td>\n",
       "      <td>391</td>\n",
       "      <td>2388</td>\n",
       "      <td>100.0</td>\n",
       "      <td>38.99</td>\n",
       "      <td>23.3619</td>\n",
       "      <td>NaN</td>\n",
       "      <td>NaN</td>\n",
       "      <td>355.0</td>\n",
       "    </tr>\n",
       "    <tr>\n",
       "      <th>2</th>\n",
       "      <td>1</td>\n",
       "      <td>3</td>\n",
       "      <td>34.9986</td>\n",
       "      <td>0.8401</td>\n",
       "      <td>60.0</td>\n",
       "      <td>449.44</td>\n",
       "      <td>555.42</td>\n",
       "      <td>1368.17</td>\n",
       "      <td>1122.49</td>\n",
       "      <td>5.48</td>\n",
       "      <td>...</td>\n",
       "      <td>9.3557</td>\n",
       "      <td>0.02</td>\n",
       "      <td>334</td>\n",
       "      <td>2223</td>\n",
       "      <td>100.0</td>\n",
       "      <td>14.83</td>\n",
       "      <td>8.8555</td>\n",
       "      <td>NaN</td>\n",
       "      <td>NaN</td>\n",
       "      <td>354.0</td>\n",
       "    </tr>\n",
       "    <tr>\n",
       "      <th>3</th>\n",
       "      <td>1</td>\n",
       "      <td>4</td>\n",
       "      <td>20.0031</td>\n",
       "      <td>0.7005</td>\n",
       "      <td>0.0</td>\n",
       "      <td>491.19</td>\n",
       "      <td>607.03</td>\n",
       "      <td>1488.44</td>\n",
       "      <td>1249.18</td>\n",
       "      <td>9.35</td>\n",
       "      <td>...</td>\n",
       "      <td>9.2231</td>\n",
       "      <td>0.02</td>\n",
       "      <td>364</td>\n",
       "      <td>2324</td>\n",
       "      <td>100.0</td>\n",
       "      <td>24.42</td>\n",
       "      <td>14.7832</td>\n",
       "      <td>NaN</td>\n",
       "      <td>NaN</td>\n",
       "      <td>353.0</td>\n",
       "    </tr>\n",
       "    <tr>\n",
       "      <th>4</th>\n",
       "      <td>1</td>\n",
       "      <td>5</td>\n",
       "      <td>42.0041</td>\n",
       "      <td>0.8405</td>\n",
       "      <td>40.0</td>\n",
       "      <td>445.00</td>\n",
       "      <td>549.52</td>\n",
       "      <td>1354.48</td>\n",
       "      <td>1124.32</td>\n",
       "      <td>3.91</td>\n",
       "      <td>...</td>\n",
       "      <td>9.2986</td>\n",
       "      <td>0.02</td>\n",
       "      <td>330</td>\n",
       "      <td>2212</td>\n",
       "      <td>100.0</td>\n",
       "      <td>10.99</td>\n",
       "      <td>6.4025</td>\n",
       "      <td>NaN</td>\n",
       "      <td>NaN</td>\n",
       "      <td>352.0</td>\n",
       "    </tr>\n",
       "  </tbody>\n",
       "</table>\n",
       "<p>5 rows × 29 columns</p>\n",
       "</div>"
      ],
      "text/plain": [
       "   device_id  cycles  setting1  setting2  setting3  sensor1  sensor2  sensor3  \\\n",
       "0          1       1   10.0047    0.2501      20.0   489.05   604.13  1499.45   \n",
       "1          1       2    0.0015    0.0003     100.0   518.67   642.13  1584.55   \n",
       "2          1       3   34.9986    0.8401      60.0   449.44   555.42  1368.17   \n",
       "3          1       4   20.0031    0.7005       0.0   491.19   607.03  1488.44   \n",
       "4          1       5   42.0041    0.8405      40.0   445.00   549.52  1354.48   \n",
       "\n",
       "   sensor4  sensor5  ...  sensor15  sensor16  sensor17  sensor18  sensor19  \\\n",
       "0  1309.95    10.52  ...    8.6216      0.03       368      2319     100.0   \n",
       "1  1403.96    14.62  ...    8.3907      0.03       391      2388     100.0   \n",
       "2  1122.49     5.48  ...    9.3557      0.02       334      2223     100.0   \n",
       "3  1249.18     9.35  ...    9.2231      0.02       364      2324     100.0   \n",
       "4  1124.32     3.91  ...    9.2986      0.02       330      2212     100.0   \n",
       "\n",
       "   sensor20  sensor21  sensor22  sensor23    RUL  \n",
       "0     28.58   17.1735       NaN       NaN  356.0  \n",
       "1     38.99   23.3619       NaN       NaN  355.0  \n",
       "2     14.83    8.8555       NaN       NaN  354.0  \n",
       "3     24.42   14.7832       NaN       NaN  353.0  \n",
       "4     10.99    6.4025       NaN       NaN  352.0  \n",
       "\n",
       "[5 rows x 29 columns]"
      ]
     },
     "execution_count": 99,
     "metadata": {},
     "output_type": "execute_result"
    }
   ],
   "source": [
    "train_file = DATA_DIR+'train.txt'\n",
    "df = pd.read_csv(train_file, sep=' ', header=None)\n",
    "columns = ['device_id', 'cycles', 'setting1', 'setting2', 'setting3']\n",
    "sensors = ['sensor'+str(i+1) for i in np.arange(0, 23)]\n",
    "columns += sensors\n",
    "df.columns = columns\n",
    "df['RUL'] = np.zeros(df.shape[0])\n",
    "for dev_id in df['device_id'].unique():\n",
    "  df.loc[df['device_id'] == dev_id, ['RUL']] = \\\n",
    "               df['cycles'].max() - df['cycles']\n",
    "\n",
    "y = df['RUL'].values\n",
    "\n",
    "df.head(n=5)"
   ]
  },
  {
   "cell_type": "code",
   "execution_count": 15,
   "metadata": {},
   "outputs": [
    {
     "data": {
      "text/html": [
       "<div>\n",
       "<style scoped>\n",
       "    .dataframe tbody tr th:only-of-type {\n",
       "        vertical-align: middle;\n",
       "    }\n",
       "\n",
       "    .dataframe tbody tr th {\n",
       "        vertical-align: top;\n",
       "    }\n",
       "\n",
       "    .dataframe thead th {\n",
       "        text-align: right;\n",
       "    }\n",
       "</style>\n",
       "<table border=\"1\" class=\"dataframe\">\n",
       "  <thead>\n",
       "    <tr style=\"text-align: right;\">\n",
       "      <th></th>\n",
       "      <th>device_id</th>\n",
       "      <th>cycles</th>\n",
       "      <th>setting1</th>\n",
       "      <th>setting2</th>\n",
       "      <th>setting3</th>\n",
       "      <th>sensor1</th>\n",
       "      <th>sensor2</th>\n",
       "      <th>sensor3</th>\n",
       "      <th>sensor4</th>\n",
       "      <th>sensor5</th>\n",
       "      <th>...</th>\n",
       "      <th>sensor14</th>\n",
       "      <th>sensor15</th>\n",
       "      <th>sensor16</th>\n",
       "      <th>sensor17</th>\n",
       "      <th>sensor18</th>\n",
       "      <th>sensor19</th>\n",
       "      <th>sensor20</th>\n",
       "      <th>sensor21</th>\n",
       "      <th>sensor22</th>\n",
       "      <th>sensor23</th>\n",
       "    </tr>\n",
       "  </thead>\n",
       "  <tbody>\n",
       "    <tr>\n",
       "      <th>0</th>\n",
       "      <td>1</td>\n",
       "      <td>1</td>\n",
       "      <td>0.0016</td>\n",
       "      <td>0.0002</td>\n",
       "      <td>100.0</td>\n",
       "      <td>518.67</td>\n",
       "      <td>642.88</td>\n",
       "      <td>1587.21</td>\n",
       "      <td>1412.44</td>\n",
       "      <td>14.62</td>\n",
       "      <td>...</td>\n",
       "      <td>8124.04</td>\n",
       "      <td>8.4363</td>\n",
       "      <td>0.03</td>\n",
       "      <td>393</td>\n",
       "      <td>2388</td>\n",
       "      <td>100.00</td>\n",
       "      <td>38.97</td>\n",
       "      <td>23.3029</td>\n",
       "      <td>NaN</td>\n",
       "      <td>NaN</td>\n",
       "    </tr>\n",
       "    <tr>\n",
       "      <th>1</th>\n",
       "      <td>1</td>\n",
       "      <td>2</td>\n",
       "      <td>24.9993</td>\n",
       "      <td>0.6215</td>\n",
       "      <td>80.0</td>\n",
       "      <td>462.54</td>\n",
       "      <td>536.45</td>\n",
       "      <td>1262.64</td>\n",
       "      <td>1055.44</td>\n",
       "      <td>7.05</td>\n",
       "      <td>...</td>\n",
       "      <td>7865.20</td>\n",
       "      <td>10.8935</td>\n",
       "      <td>0.02</td>\n",
       "      <td>308</td>\n",
       "      <td>1915</td>\n",
       "      <td>84.93</td>\n",
       "      <td>14.29</td>\n",
       "      <td>8.6686</td>\n",
       "      <td>NaN</td>\n",
       "      <td>NaN</td>\n",
       "    </tr>\n",
       "    <tr>\n",
       "      <th>2</th>\n",
       "      <td>1</td>\n",
       "      <td>3</td>\n",
       "      <td>0.0004</td>\n",
       "      <td>0.0000</td>\n",
       "      <td>100.0</td>\n",
       "      <td>518.67</td>\n",
       "      <td>642.65</td>\n",
       "      <td>1589.75</td>\n",
       "      <td>1409.54</td>\n",
       "      <td>14.62</td>\n",
       "      <td>...</td>\n",
       "      <td>8121.12</td>\n",
       "      <td>8.4620</td>\n",
       "      <td>0.03</td>\n",
       "      <td>393</td>\n",
       "      <td>2388</td>\n",
       "      <td>100.00</td>\n",
       "      <td>38.91</td>\n",
       "      <td>23.2693</td>\n",
       "      <td>NaN</td>\n",
       "      <td>NaN</td>\n",
       "    </tr>\n",
       "    <tr>\n",
       "      <th>3</th>\n",
       "      <td>1</td>\n",
       "      <td>4</td>\n",
       "      <td>10.0034</td>\n",
       "      <td>0.2500</td>\n",
       "      <td>20.0</td>\n",
       "      <td>489.05</td>\n",
       "      <td>604.44</td>\n",
       "      <td>1499.93</td>\n",
       "      <td>1315.34</td>\n",
       "      <td>10.52</td>\n",
       "      <td>...</td>\n",
       "      <td>8123.53</td>\n",
       "      <td>8.6815</td>\n",
       "      <td>0.03</td>\n",
       "      <td>369</td>\n",
       "      <td>2319</td>\n",
       "      <td>100.00</td>\n",
       "      <td>28.60</td>\n",
       "      <td>17.0930</td>\n",
       "      <td>NaN</td>\n",
       "      <td>NaN</td>\n",
       "    </tr>\n",
       "    <tr>\n",
       "      <th>4</th>\n",
       "      <td>1</td>\n",
       "      <td>5</td>\n",
       "      <td>0.0024</td>\n",
       "      <td>0.0011</td>\n",
       "      <td>100.0</td>\n",
       "      <td>518.67</td>\n",
       "      <td>642.74</td>\n",
       "      <td>1585.47</td>\n",
       "      <td>1408.12</td>\n",
       "      <td>14.62</td>\n",
       "      <td>...</td>\n",
       "      <td>8118.30</td>\n",
       "      <td>8.4617</td>\n",
       "      <td>0.03</td>\n",
       "      <td>392</td>\n",
       "      <td>2388</td>\n",
       "      <td>100.00</td>\n",
       "      <td>38.82</td>\n",
       "      <td>23.3124</td>\n",
       "      <td>NaN</td>\n",
       "      <td>NaN</td>\n",
       "    </tr>\n",
       "  </tbody>\n",
       "</table>\n",
       "<p>5 rows × 28 columns</p>\n",
       "</div>"
      ],
      "text/plain": [
       "   device_id  cycles  setting1  setting2  setting3  sensor1  sensor2  sensor3  \\\n",
       "0          1       1    0.0016    0.0002     100.0   518.67   642.88  1587.21   \n",
       "1          1       2   24.9993    0.6215      80.0   462.54   536.45  1262.64   \n",
       "2          1       3    0.0004    0.0000     100.0   518.67   642.65  1589.75   \n",
       "3          1       4   10.0034    0.2500      20.0   489.05   604.44  1499.93   \n",
       "4          1       5    0.0024    0.0011     100.0   518.67   642.74  1585.47   \n",
       "\n",
       "   sensor4  sensor5  ...  sensor14  sensor15  sensor16  sensor17  sensor18  \\\n",
       "0  1412.44    14.62  ...   8124.04    8.4363      0.03       393      2388   \n",
       "1  1055.44     7.05  ...   7865.20   10.8935      0.02       308      1915   \n",
       "2  1409.54    14.62  ...   8121.12    8.4620      0.03       393      2388   \n",
       "3  1315.34    10.52  ...   8123.53    8.6815      0.03       369      2319   \n",
       "4  1408.12    14.62  ...   8118.30    8.4617      0.03       392      2388   \n",
       "\n",
       "   sensor19  sensor20  sensor21  sensor22  sensor23  \n",
       "0    100.00     38.97   23.3029       NaN       NaN  \n",
       "1     84.93     14.29    8.6686       NaN       NaN  \n",
       "2    100.00     38.91   23.2693       NaN       NaN  \n",
       "3    100.00     28.60   17.0930       NaN       NaN  \n",
       "4    100.00     38.82   23.3124       NaN       NaN  \n",
       "\n",
       "[5 rows x 28 columns]"
      ]
     },
     "execution_count": 15,
     "metadata": {},
     "output_type": "execute_result"
    }
   ],
   "source": [
    "test_file = DATA_DIR+'test.txt'\n",
    "df_test = pd.read_csv(test_file, sep=' ', header=None)\n",
    "columns = ['device_id', 'cycles', 'setting1', 'setting2', 'setting3']\n",
    "sensors = ['sensor'+str(i+1) for i in np.arange(0, 23)]\n",
    "columns += sensors\n",
    "df_test.columns = columns\n",
    "df_test.head(n=5)"
   ]
  },
  {
   "cell_type": "markdown",
   "metadata": {},
   "source": [
    "## Clustering: regimen definition\n",
    "\n",
    "In the literature, the data represents 6 clusters [<a href=\"http://ftp.phmsociety.org/sites/phmsociety.org/files/phm_submission/2014/phmc_14_064.pdf\">Lam 2014</a>].\n",
    "\n",
    "1. Define # regimen with k-means clustering algorithm\n",
    "1. k clusters defined with Silhouette score\n"
   ]
  },
  {
   "cell_type": "code",
   "execution_count": 34,
   "metadata": {},
   "outputs": [
    {
     "name": "stderr",
     "output_type": "stream",
     "text": [
      "/home/laptop/Documents/code/DL/dlenv/lib/python3.6/site-packages/ipykernel_launcher.py:3: SettingWithCopyWarning: \n",
      "A value is trying to be set on a copy of a slice from a DataFrame\n",
      "\n",
      "See the caveats in the documentation: http://pandas.pydata.org/pandas-docs/stable/indexing.html#indexing-view-versus-copy\n",
      "  This is separate from the ipykernel package so we can avoid doing imports until\n"
     ]
    },
    {
     "data": {
      "text/plain": [
       "0.8088210851577878"
      ]
     },
     "execution_count": 34,
     "metadata": {},
     "output_type": "execute_result"
    }
   ],
   "source": [
    "features = sensors+['setting1', 'setting2', 'setting3']\n",
    "X = df[sensors+['setting1', 'setting2', 'setting3']]\n",
    "X.dropna(inplace=True, axis=1)\n",
    "kmeans = KMeans(n_clusters=6, random_state=0).fit(X)\n",
    "silhouette_score(X, kmeans.labels_, metric='euclidean')"
   ]
  },
  {
   "cell_type": "code",
   "execution_count": 35,
   "metadata": {},
   "outputs": [
    {
     "name": "stdout",
     "output_type": "stream",
     "text": [
      "For n_clusters = 6 The average silhouette_score is : 0.8088210851577878\n"
     ]
    },
    {
     "data": {
      "text/plain": [
       "Text(0.5, 0.98, 'Silhouette analysis for KMeans clustering on sample data with n_clusters = 6')"
      ]
     },
     "execution_count": 35,
     "metadata": {},
     "output_type": "execute_result"
    },
    {
     "data": {
      "image/png": "[encoded data removed]",
      "text/plain": [
       "<Figure size 1296x504 with 2 Axes>"
      ]
     },
     "metadata": {
      "needs_background": "light"
     },
     "output_type": "display_data"
    }
   ],
   "source": [
    "X = X.values\n",
    "n_clusters=6\n",
    "\n",
    "fig, (ax1, ax2) = plt.subplots(1, 2)\n",
    "fig.set_size_inches(18, 7)\n",
    "\n",
    "# The 1st subplot is the silhouette plot\n",
    "# The silhouette coefficient can range from -1, 1 but in this example all\n",
    "# lie within [-0.1, 1]\n",
    "ax1.set_xlim([-1.0, 1.0])\n",
    "# The (n_clusters+1)*10 is for inserting blank space between silhouette\n",
    "# plots of individual clusters, to demarcate them clearly.\n",
    "ax1.set_ylim([0, len(X) + (n_clusters + 1) * 10])\n",
    "\n",
    "# Initialize the clusterer with n_clusters value and a random generator\n",
    "# seed of 10 for reproducibility.\n",
    "#clusterer = KMeans(n_clusters=n_clusters, random_state=10)\n",
    "cluster_labels = kmeans.predict(X)\n",
    "\n",
    "# The silhouette_score gives the average value for all the samples.\n",
    "# This gives a perspective into the density and separation of the formed\n",
    "# clusters\n",
    "silhouette_avg = silhouette_score(X, cluster_labels)\n",
    "print(\"For n_clusters =\", n_clusters,\n",
    "      \"The average silhouette_score is :\", silhouette_avg)\n",
    "\n",
    "# Compute the silhouette scores for each sample\n",
    "sample_silhouette_values = silhouette_samples(X, cluster_labels)\n",
    "\n",
    "y_lower = 10\n",
    "for i in range(n_clusters):\n",
    "  # Aggregate the silhouette scores for samples belonging to\n",
    "  # cluster i, and sort them\n",
    "  ith_cluster_silhouette_values = \\\n",
    "     sample_silhouette_values[cluster_labels == i]\n",
    "\n",
    "  ith_cluster_silhouette_values.sort()\n",
    "\n",
    "  size_cluster_i = ith_cluster_silhouette_values.shape[0]\n",
    "  y_upper = y_lower + size_cluster_i\n",
    "\n",
    "  color = cm.nipy_spectral(float(i) / n_clusters)\n",
    "  ax1.fill_betweenx(np.arange(y_lower, y_upper),\n",
    "                          0, ith_cluster_silhouette_values,\n",
    "                          facecolor=color, edgecolor=color, alpha=0.7)\n",
    "\n",
    "  # Label the silhouette plots with their cluster numbers at the middle\n",
    "  ax1.text(-0.05, y_lower + 0.5 * size_cluster_i, str(i))\n",
    "\n",
    "  # Compute the new y_lower for next plot\n",
    "  y_lower = y_upper + 10  # 10 for the 0 samples\n",
    "\n",
    "ax1.set_title(\"The silhouette plot for the various clusters.\")\n",
    "ax1.set_xlabel(\"The silhouette coefficient values\")\n",
    "ax1.set_ylabel(\"Cluster label\")\n",
    "\n",
    "# The vertical line for average silhouette score of all the values\n",
    "ax1.axvline(x=silhouette_avg, color=\"red\", linestyle=\"--\")\n",
    "\n",
    "ax1.set_yticks([])  # Clear the yaxis labels / ticks\n",
    "ax1.set_xticks([-0.1, 0, 0.2, 0.4, 0.6, 0.8, 1])\n",
    "\n",
    "# 2nd Plot showing the actual clusters formed\n",
    "colors = cm.nipy_spectral(cluster_labels.astype(float) / n_clusters)\n",
    "ax2.scatter(X[:, 0], X[:, 1], marker='.', s=30, lw=0, alpha=0.7,\n",
    "            c=colors, edgecolor='k')\n",
    "\n",
    "# Labeling the clusters\n",
    "centers = clusterer.cluster_centers_\n",
    "# Draw white circles at cluster centers\n",
    "ax2.scatter(centers[:, 0], centers[:, 1], marker='o',\n",
    "            c=\"white\", alpha=1, s=200, edgecolor='k')\n",
    "\n",
    "for i, c in enumerate(centers):\n",
    "    ax2.scatter(c[0], c[1], marker='$%d$' % i, alpha=1,\n",
    "                s=50, edgecolor='k')\n",
    "\n",
    "ax2.set_title(\"The visualization of the clustered data.\")\n",
    "ax2.set_xlabel(\"Feature space for the 1st feature\")\n",
    "ax2.set_ylabel(\"Feature space for the 2nd feature\")\n",
    "\n",
    "plt.suptitle((\"Silhouette analysis for KMeans clustering on sample data \"\n",
    "              \"with n_clusters = %d\" % n_clusters),\n",
    "             fontsize=14, fontweight='bold')"
   ]
  },
  {
   "cell_type": "code",
   "execution_count": null,
   "metadata": {},
   "outputs": [],
   "source": []
  },
  {
   "cell_type": "code",
   "execution_count": 28,
   "metadata": {},
   "outputs": [
    {
     "name": "stderr",
     "output_type": "stream",
     "text": [
      "/home/laptop/Documents/code/DL/dlenv/lib/python3.6/site-packages/ipykernel_launcher.py:2: SettingWithCopyWarning: \n",
      "A value is trying to be set on a copy of a slice from a DataFrame\n",
      "\n",
      "See the caveats in the documentation: http://pandas.pydata.org/pandas-docs/stable/indexing.html#indexing-view-versus-copy\n",
      "  \n"
     ]
    },
    {
     "data": {
      "text/plain": [
       "0.8872324557215985"
      ]
     },
     "execution_count": 28,
     "metadata": {},
     "output_type": "execute_result"
    }
   ],
   "source": [
    "X = df[sensors+['setting1', 'setting2', 'setting3']]\n",
    "X.dropna(inplace=True, axis=1)\n",
    "kmeans = KMeans(n_clusters=4, random_state=0).fit(X)\n",
    "silhouette_score(X, kmeans.labels_, metric='euclidean')"
   ]
  },
  {
   "cell_type": "code",
   "execution_count": 29,
   "metadata": {},
   "outputs": [
    {
     "name": "stdout",
     "output_type": "stream",
     "text": [
      "For n_clusters = 4 The average silhouette_score is : 0.8872324557215985\n"
     ]
    },
    {
     "data": {
      "text/plain": [
       "Text(0.5, 0.98, 'Silhouette analysis for KMeans clustering on sample data with n_clusters = 4')"
      ]
     },
     "execution_count": 29,
     "metadata": {},
     "output_type": "execute_result"
    },
    {
     "data": {
      "image/png": "[encoded data removed]",
      "text/plain": [
       "<Figure size 1296x504 with 2 Axes>"
      ]
     },
     "metadata": {
      "needs_background": "light"
     },
     "output_type": "display_data"
    }
   ],
   "source": [
    "X = X.values\n",
    "n_clusters=4\n",
    "\n",
    "fig, (ax1, ax2) = plt.subplots(1, 2)\n",
    "fig.set_size_inches(18, 7)\n",
    "\n",
    "# The 1st subplot is the silhouette plot\n",
    "# The silhouette coefficient can range from -1, 1 but in this example all\n",
    "# lie within [-0.1, 1]\n",
    "ax1.set_xlim([-1.0, 1.0])\n",
    "# The (n_clusters+1)*10 is for inserting blank space between silhouette\n",
    "# plots of individual clusters, to demarcate them clearly.\n",
    "ax1.set_ylim([0, len(X) + (n_clusters + 1) * 10])\n",
    "\n",
    "# Initialize the clusterer with n_clusters value and a random generator\n",
    "# seed of 10 for reproducibility.\n",
    "#clusterer = KMeans(n_clusters=n_clusters, random_state=10)\n",
    "cluster_labels = kmeans.predict(X)\n",
    "\n",
    "# The silhouette_score gives the average value for all the samples.\n",
    "# This gives a perspective into the density and separation of the formed\n",
    "# clusters\n",
    "silhouette_avg = silhouette_score(X, cluster_labels)\n",
    "print(\"For n_clusters =\", n_clusters,\n",
    "      \"The average silhouette_score is :\", silhouette_avg)\n",
    "\n",
    "# Compute the silhouette scores for each sample\n",
    "sample_silhouette_values = silhouette_samples(X, cluster_labels)\n",
    "\n",
    "y_lower = 10\n",
    "for i in range(n_clusters):\n",
    "  # Aggregate the silhouette scores for samples belonging to\n",
    "  # cluster i, and sort them\n",
    "  ith_cluster_silhouette_values = \\\n",
    "     sample_silhouette_values[cluster_labels == i]\n",
    "\n",
    "  ith_cluster_silhouette_values.sort()\n",
    "\n",
    "  size_cluster_i = ith_cluster_silhouette_values.shape[0]\n",
    "  y_upper = y_lower + size_cluster_i\n",
    "\n",
    "  color = cm.nipy_spectral(float(i) / n_clusters)\n",
    "  ax1.fill_betweenx(np.arange(y_lower, y_upper),\n",
    "                          0, ith_cluster_silhouette_values,\n",
    "                          facecolor=color, edgecolor=color, alpha=0.7)\n",
    "\n",
    "  # Label the silhouette plots with their cluster numbers at the middle\n",
    "  ax1.text(-0.05, y_lower + 0.5 * size_cluster_i, str(i))\n",
    "\n",
    "  # Compute the new y_lower for next plot\n",
    "  y_lower = y_upper + 10  # 10 for the 0 samples\n",
    "\n",
    "ax1.set_title(\"The silhouette plot for the various clusters.\")\n",
    "ax1.set_xlabel(\"The silhouette coefficient values\")\n",
    "ax1.set_ylabel(\"Cluster label\")\n",
    "\n",
    "# The vertical line for average silhouette score of all the values\n",
    "ax1.axvline(x=silhouette_avg, color=\"red\", linestyle=\"--\")\n",
    "\n",
    "ax1.set_yticks([])  # Clear the yaxis labels / ticks\n",
    "ax1.set_xticks([-0.1, 0, 0.2, 0.4, 0.6, 0.8, 1])\n",
    "\n",
    "# 2nd Plot showing the actual clusters formed\n",
    "colors = cm.nipy_spectral(cluster_labels.astype(float) / n_clusters)\n",
    "ax2.scatter(X[:, 0], X[:, 1], marker='.', s=30, lw=0, alpha=0.7,\n",
    "            c=colors, edgecolor='k')\n",
    "\n",
    "# Labeling the clusters\n",
    "centers = clusterer.cluster_centers_\n",
    "# Draw white circles at cluster centers\n",
    "ax2.scatter(centers[:, 0], centers[:, 1], marker='o',\n",
    "            c=\"white\", alpha=1, s=200, edgecolor='k')\n",
    "\n",
    "for i, c in enumerate(centers):\n",
    "    ax2.scatter(c[0], c[1], marker='$%d$' % i, alpha=1,\n",
    "                s=50, edgecolor='k')\n",
    "\n",
    "ax2.set_title(\"The visualization of the clustered data.\")\n",
    "ax2.set_xlabel(\"Feature space for the 1st feature\")\n",
    "ax2.set_ylabel(\"Feature space for the 2nd feature\")\n",
    "\n",
    "plt.suptitle((\"Silhouette analysis for KMeans clustering on sample data \"\n",
    "              \"with n_clusters = %d\" % n_clusters),\n",
    "             fontsize=14, fontweight='bold')"
   ]
  },
  {
   "cell_type": "markdown",
   "metadata": {},
   "source": [
    "## Data normailzation for each regimen\n"
   ]
  },
  {
   "cell_type": "code",
   "execution_count": 44,
   "metadata": {},
   "outputs": [
    {
     "name": "stdout",
     "output_type": "stream",
     "text": [
      "dict_keys([0, 1, 2, 3, 4, 5])\n"
     ]
    }
   ],
   "source": [
    "data_norm = {}\n",
    "for i in range(n_clusters):\n",
    "  data_norm[i] = []\n",
    "  ix = np.where(cluster_labels == i)[0]\n",
    "  data = X[ix,:]\n",
    "    \n",
    "  for j in np.arange(0, X.shape[1]):\n",
    "    sample = data[:,j]\n",
    "    data_norm[i].append((j, sample.mean(), sample.std()))\n",
    " \n",
    "print(data_norm.keys())"
   ]
  },
  {
   "cell_type": "code",
   "execution_count": 48,
   "metadata": {},
   "outputs": [
    {
     "name": "stdout",
     "output_type": "stream",
     "text": [
      "[(0, 489.07063318463105, 0.2091154867580953), (1, 604.9502489566845, 0.5763155122172561), (2, 1502.0626018132104, 5.839095320109106), (3, 1310.90137429846, 9.453545828651542), (4, 10.508719240178442, 0.1143294950967164), (5, 15.475613757375163, 0.17916143845196147), (6, 393.7401352712621, 5.942791803863526), (7, 2319.016793783278, 0.5679648825904752), (8, 8784.35812778817, 18.18075038469695), (9, 1.2581810332421932, 0.018438106552216), (10, 45.48819542380199, 0.2591529452757793), (11, 370.88947474456756, 5.590906064372626), (12, 2388.1708893365953, 0.1167236965708959), (13, 8133.856134695639, 15.758598169194997), (14, 8.671387768024175, 0.07216573408507071), (15, 0.029984170384227956, 0.0003975494698588397), (16, 369.7081594474025, 1.4734249407998359), (17, 2319.048208375306, 0.48858758588340356), (18, 100.0, 0.0), (19, 28.484757519067493, 0.4373542421373122), (20, 17.090878529284787, 0.2610157529742232), (21, 10.09938746582242, 0.9772608272091471), (22, 0.25484033673909917, 0.04396807575564734), (23, 19.8071664987768, 1.9543503435336143)]\n"
     ]
    },
    {
     "data": {
      "text/plain": [
       "dict_keys([0, 1, 2, 3, 4, 5])"
      ]
     },
     "execution_count": 48,
     "metadata": {},
     "output_type": "execute_result"
    }
   ],
   "source": [
    "print(data_norm[2])\n",
    "data_norm.keys()"
   ]
  },
  {
   "cell_type": "code",
   "execution_count": 50,
   "metadata": {},
   "outputs": [
    {
     "name": "stdout",
     "output_type": "stream",
     "text": [
      "(45918, 24)\n"
     ]
    },
    {
     "name": "stderr",
     "output_type": "stream",
     "text": [
      "/home/laptop/Documents/code/DL/dlenv/lib/python3.6/site-packages/ipykernel_launcher.py:7: RuntimeWarning: invalid value encountered in true_divide\n",
      "  import sys\n"
     ]
    }
   ],
   "source": [
    "X_norm = np.zeros(X.shape)\n",
    "for i in range(n_clusters):\n",
    "  ix = np.where(cluster_labels == regimen)[0]\n",
    "  data = X[ix,:]\n",
    "  for j in np.arange(0, X.shape[1]):\n",
    "    sample = data[:,j]\n",
    "    data[:,j] = (sample - sample.mean())/sample.std()\n",
    "  X_norm[ix,:] = data\n",
    "print(X_norm.shape)"
   ]
  },
  {
   "cell_type": "code",
   "execution_count": 53,
   "metadata": {},
   "outputs": [
    {
     "data": {
      "text/plain": [
       "(array([], dtype=int64), array([], dtype=int64))"
      ]
     },
     "execution_count": 53,
     "metadata": {},
     "output_type": "execute_result"
    }
   ],
   "source": [
    "np.where(X_norm == np.nan)"
   ]
  },
  {
   "cell_type": "markdown",
   "metadata": {},
   "source": [
    "## Variable weighting\n",
    "$eSNR = \\frac{\\sigma(sample_{smooth})}{\\sigma(sample)}$"
   ]
  },
  {
   "cell_type": "code",
   "execution_count": 69,
   "metadata": {},
   "outputs": [
    {
     "name": "stderr",
     "output_type": "stream",
     "text": [
      "/home/laptop/Documents/code/DL/dlenv/lib/python3.6/site-packages/numpy/core/_methods.py:140: RuntimeWarning: Degrees of freedom <= 0 for slice\n",
      "  keepdims=keepdims)\n",
      "/home/laptop/Documents/code/DL/dlenv/lib/python3.6/site-packages/numpy/core/_methods.py:110: RuntimeWarning: invalid value encountered in true_divide\n",
      "  arrmean, rcount, out=arrmean, casting='unsafe', subok=False)\n",
      "/home/laptop/Documents/code/DL/dlenv/lib/python3.6/site-packages/numpy/core/_methods.py:132: RuntimeWarning: invalid value encountered in double_scalars\n",
      "  ret = ret.dtype.type(ret / rcount)\n"
     ]
    },
    {
     "data": {
      "text/html": [
       "<div>\n",
       "<style scoped>\n",
       "    .dataframe tbody tr th:only-of-type {\n",
       "        vertical-align: middle;\n",
       "    }\n",
       "\n",
       "    .dataframe tbody tr th {\n",
       "        vertical-align: top;\n",
       "    }\n",
       "\n",
       "    .dataframe thead th {\n",
       "        text-align: right;\n",
       "    }\n",
       "</style>\n",
       "<table border=\"1\" class=\"dataframe\">\n",
       "  <thead>\n",
       "    <tr style=\"text-align: right;\">\n",
       "      <th></th>\n",
       "      <th>j</th>\n",
       "      <th>eSNR</th>\n",
       "    </tr>\n",
       "  </thead>\n",
       "  <tbody>\n",
       "    <tr>\n",
       "      <th>12</th>\n",
       "      <td>12</td>\n",
       "      <td>0.412565</td>\n",
       "    </tr>\n",
       "    <tr>\n",
       "      <th>7</th>\n",
       "      <td>7</td>\n",
       "      <td>0.412394</td>\n",
       "    </tr>\n",
       "    <tr>\n",
       "      <th>13</th>\n",
       "      <td>13</td>\n",
       "      <td>0.397503</td>\n",
       "    </tr>\n",
       "    <tr>\n",
       "      <th>8</th>\n",
       "      <td>8</td>\n",
       "      <td>0.385416</td>\n",
       "    </tr>\n",
       "    <tr>\n",
       "      <th>10</th>\n",
       "      <td>10</td>\n",
       "      <td>0.328390</td>\n",
       "    </tr>\n",
       "    <tr>\n",
       "      <th>14</th>\n",
       "      <td>14</td>\n",
       "      <td>0.327060</td>\n",
       "    </tr>\n",
       "    <tr>\n",
       "      <th>3</th>\n",
       "      <td>3</td>\n",
       "      <td>0.304744</td>\n",
       "    </tr>\n",
       "    <tr>\n",
       "      <th>9</th>\n",
       "      <td>9</td>\n",
       "      <td>0.275088</td>\n",
       "    </tr>\n",
       "    <tr>\n",
       "      <th>1</th>\n",
       "      <td>1</td>\n",
       "      <td>0.269447</td>\n",
       "    </tr>\n",
       "    <tr>\n",
       "      <th>16</th>\n",
       "      <td>16</td>\n",
       "      <td>0.268727</td>\n",
       "    </tr>\n",
       "    <tr>\n",
       "      <th>2</th>\n",
       "      <td>2</td>\n",
       "      <td>0.263829</td>\n",
       "    </tr>\n",
       "    <tr>\n",
       "      <th>11</th>\n",
       "      <td>11</td>\n",
       "      <td>0.212524</td>\n",
       "    </tr>\n",
       "    <tr>\n",
       "      <th>5</th>\n",
       "      <td>5</td>\n",
       "      <td>0.197829</td>\n",
       "    </tr>\n",
       "    <tr>\n",
       "      <th>6</th>\n",
       "      <td>6</td>\n",
       "      <td>0.194030</td>\n",
       "    </tr>\n",
       "    <tr>\n",
       "      <th>19</th>\n",
       "      <td>19</td>\n",
       "      <td>0.170544</td>\n",
       "    </tr>\n",
       "    <tr>\n",
       "      <th>20</th>\n",
       "      <td>20</td>\n",
       "      <td>0.166800</td>\n",
       "    </tr>\n",
       "    <tr>\n",
       "      <th>21</th>\n",
       "      <td>21</td>\n",
       "      <td>0.115045</td>\n",
       "    </tr>\n",
       "    <tr>\n",
       "      <th>4</th>\n",
       "      <td>4</td>\n",
       "      <td>0.111873</td>\n",
       "    </tr>\n",
       "    <tr>\n",
       "      <th>22</th>\n",
       "      <td>22</td>\n",
       "      <td>0.110299</td>\n",
       "    </tr>\n",
       "    <tr>\n",
       "      <th>0</th>\n",
       "      <td>0</td>\n",
       "      <td>NaN</td>\n",
       "    </tr>\n",
       "    <tr>\n",
       "      <th>15</th>\n",
       "      <td>15</td>\n",
       "      <td>NaN</td>\n",
       "    </tr>\n",
       "    <tr>\n",
       "      <th>17</th>\n",
       "      <td>17</td>\n",
       "      <td>NaN</td>\n",
       "    </tr>\n",
       "    <tr>\n",
       "      <th>18</th>\n",
       "      <td>18</td>\n",
       "      <td>NaN</td>\n",
       "    </tr>\n",
       "    <tr>\n",
       "      <th>23</th>\n",
       "      <td>23</td>\n",
       "      <td>NaN</td>\n",
       "    </tr>\n",
       "  </tbody>\n",
       "</table>\n",
       "</div>"
      ],
      "text/plain": [
       "     j      eSNR\n",
       "12  12  0.412565\n",
       "7    7  0.412394\n",
       "13  13  0.397503\n",
       "8    8  0.385416\n",
       "10  10  0.328390\n",
       "14  14  0.327060\n",
       "3    3  0.304744\n",
       "9    9  0.275088\n",
       "1    1  0.269447\n",
       "16  16  0.268727\n",
       "2    2  0.263829\n",
       "11  11  0.212524\n",
       "5    5  0.197829\n",
       "6    6  0.194030\n",
       "19  19  0.170544\n",
       "20  20  0.166800\n",
       "21  21  0.115045\n",
       "4    4  0.111873\n",
       "22  22  0.110299\n",
       "0    0       NaN\n",
       "15  15       NaN\n",
       "17  17       NaN\n",
       "18  18       NaN\n",
       "23  23       NaN"
      ]
     },
     "execution_count": 69,
     "metadata": {},
     "output_type": "execute_result"
    }
   ],
   "source": [
    "eSNR = []\n",
    "\n",
    "for j in np.arange(0, X.shape[1]):\n",
    "  sample = X_norm[:,j]\n",
    "  d = {}\n",
    "  d['sample'] = sample\n",
    "  df = pd.DataFrame(data=d)\n",
    "  df['sample_MAW_75'] = df['sample'].rolling(75, center=True).mean()\n",
    "  df.dropna(subset=['sample_MAW_75'], axis=0, inplace=True)\n",
    "  esnr = df['sample_MAW_75'].values.std()/sample.std()\n",
    "  eSNR.append(esnr)\n",
    "\n",
    "d = {}\n",
    "d['j'] = np.arange(0, X.shape[1])\n",
    "d['eSNR'] = eSNR\n",
    "df_weight = pd.DataFrame(data=d)\n",
    "df_weight.sort_values(by=['eSNR'], ascending=False).head(n=X.shape[1])"
   ]
  },
  {
   "cell_type": "code",
   "execution_count": 88,
   "metadata": {},
   "outputs": [],
   "source": [
    "df_select = df_weight[df_weight['eSNR'] > 0.22]"
   ]
  },
  {
   "cell_type": "code",
   "execution_count": 89,
   "metadata": {},
   "outputs": [
    {
     "data": {
      "text/plain": [
       "(45918, 11)"
      ]
     },
     "execution_count": 89,
     "metadata": {},
     "output_type": "execute_result"
    }
   ],
   "source": [
    "X_norm_weight = X_norm[:,df_select['j'].values]\n",
    "X_norm_weight.shape"
   ]
  },
  {
   "cell_type": "markdown",
   "metadata": {},
   "source": [
    "## Principal Component Analysis"
   ]
  },
  {
   "cell_type": "code",
   "execution_count": 100,
   "metadata": {},
   "outputs": [
    {
     "name": "stdout",
     "output_type": "stream",
     "text": [
      "0.9127373271720503\n"
     ]
    }
   ],
   "source": [
    "pca = PCA(n_components=5)\n",
    "pca.fit(X_norm_weight)\n",
    "print(pca.explained_variance_ratio_.sum())\n",
    "X_norm_weight_pca = pca.transform(X_norm_weight)"
   ]
  },
  {
   "cell_type": "markdown",
   "metadata": {},
   "source": [
    "## Kernel regression degradation model"
   ]
  },
  {
   "cell_type": "code",
   "execution_count": 118,
   "metadata": {},
   "outputs": [
    {
     "data": {
      "text/plain": [
       "0.15471498355176772"
      ]
     },
     "execution_count": 118,
     "metadata": {},
     "output_type": "execute_result"
    }
   ],
   "source": [
    "#model = KernelRidge(kernel=\"rbf\", gamma=.5)\n",
    "model = SVR(kernel=\"rbf\", gamma=0.01)\n",
    "model.fit(X_norm_weight_pca, y)\n",
    "model.score(X_norm_weight_pca, y)"
   ]
  },
  {
   "cell_type": "code",
   "execution_count": null,
   "metadata": {},
   "outputs": [],
   "source": [
    "model1 = nparam.KernelReg(endog=[y], exog=[X_norm_weight_pca[:,0]], reg_type='lc', var_type='c', bw='cv_ls')\n",
    "mean1, mfx1 = model1.fit()\n",
    "print(mean1, mfx1)"
   ]
  },
  {
   "cell_type": "markdown",
   "metadata": {},
   "source": [
    "## Similarity measure"
   ]
  },
  {
   "cell_type": "code",
   "execution_count": null,
   "metadata": {},
   "outputs": [],
   "source": []
  }
 ],
 "metadata": {
  "kernelspec": {
   "display_name": "Python 3",
   "language": "python",
   "name": "python3"
  },
  "language_info": {
   "codemirror_mode": {
    "name": "ipython",
    "version": 3
   },
   "file_extension": ".py",
   "mimetype": "text/x-python",
   "name": "python",
   "nbconvert_exporter": "python",
   "pygments_lexer": "ipython3",
   "version": "3.6.7"
  }
 },
 "nbformat": 4,
 "nbformat_minor": 2
}
