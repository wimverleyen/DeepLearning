{
 "cells": [
  {
   "cell_type": "code",
   "execution_count": 1,
   "metadata": {},
   "outputs": [
    {
     "name": "stdout",
     "output_type": "stream",
     "text": [
      "     id  label     score  precision    recall       FPR\n",
      "0   929      1  0.000016   1.000000  0.000671  0.000000\n",
      "1  2134      1  0.000057   1.000000  0.001341  0.000000\n",
      "2   103      1  0.000826   1.000000  0.002012  0.000000\n",
      "3  2072      1  0.001112   1.000000  0.002683  0.000000\n",
      "4  2066      1  0.002002   1.000000  0.003353  0.000000\n",
      "5   250      0  0.002270   0.833333  0.003353  0.000663\n",
      "6  2745      1  0.002498   0.857143  0.004024  0.000663\n",
      "7   837      0  0.002983   0.750000  0.004024  0.001325\n",
      "8  2414      0  0.003235   0.666667  0.004024  0.001988\n",
      "9    77      0  0.003913   0.600000  0.004024  0.002651\n"
     ]
    },
    {
     "name": "stderr",
     "output_type": "stream",
     "text": [
      ".E\n",
      "======================================================================\n",
      "ERROR: testBRUL (__main__.TestMetrics)\n",
      "----------------------------------------------------------------------\n",
      "Traceback (most recent call last):\n",
      "  File \"/home/laptop/Documents/code/DL/DeepLearning/performance/metrics.py\", line 329, in testBRUL\n",
      "    df = pd.read_csv(filename)\n",
      "  File \"/home/laptop/Documents/code/DL/dlenv/lib/python3.6/site-packages/pandas/io/parsers.py\", line 702, in parser_f\n",
      "    return _read(filepath_or_buffer, kwds)\n",
      "  File \"/home/laptop/Documents/code/DL/dlenv/lib/python3.6/site-packages/pandas/io/parsers.py\", line 429, in _read\n",
      "    parser = TextFileReader(filepath_or_buffer, **kwds)\n",
      "  File \"/home/laptop/Documents/code/DL/dlenv/lib/python3.6/site-packages/pandas/io/parsers.py\", line 895, in __init__\n",
      "    self._make_engine(self.engine)\n",
      "  File \"/home/laptop/Documents/code/DL/dlenv/lib/python3.6/site-packages/pandas/io/parsers.py\", line 1122, in _make_engine\n",
      "    self._engine = CParserWrapper(self.f, **self.options)\n",
      "  File \"/home/laptop/Documents/code/DL/dlenv/lib/python3.6/site-packages/pandas/io/parsers.py\", line 1853, in __init__\n",
      "    self._reader = parsers.TextReader(src, **kwds)\n",
      "  File \"pandas/_libs/parsers.pyx\", line 387, in pandas._libs.parsers.TextReader.__cinit__\n",
      "  File \"pandas/_libs/parsers.pyx\", line 705, in pandas._libs.parsers.TextReader._setup_parser_source\n",
      "FileNotFoundError: [Errno 2] File b'/home/wimverleyen/data/aviation/NASA/Challenge_Data/model/RNN_NASA_Challenge_RUL_y_test.csv' does not exist: b'/home/wimverleyen/data/aviation/NASA/Challenge_Data/model/RNN_NASA_Challenge_RUL_y_test.csv'\n",
      "\n",
      "----------------------------------------------------------------------\n",
      "Ran 2 tests in 1.098s\n",
      "\n",
      "FAILED (errors=1)\n"
     ]
    },
    {
     "ename": "SystemExit",
     "evalue": "True",
     "output_type": "error",
     "traceback": [
      "An exception has occurred, use %tb to see the full traceback.\n",
      "\u001b[0;31mSystemExit\u001b[0m\u001b[0;31m:\u001b[0m True\n"
     ]
    }
   ],
   "source": [
    "# %load script\n",
    "%run -i '/home/laptop/Documents/code/DL/DeepLearning/performance/metrics.py'"
   ]
  },
  {
   "cell_type": "markdown",
   "metadata": {},
   "source": [
    "# Multilayer Perceptron\n",
    "\n",
    "The first deep neural network model is a multilayer perceptron for predicting the remaining useful life (RUL). Two loss functions will be compared: (1) the mean absolute percentage error and (2) a customized loss function with a higher penalization of RUL predictions after the failure."
   ]
  },
  {
   "cell_type": "markdown",
   "metadata": {},
   "source": [
    "## Mean absolute percentage error"
   ]
  },
  {
   "cell_type": "code",
   "execution_count": null,
   "metadata": {},
   "outputs": [],
   "source": []
  }
 ],
 "metadata": {
  "kernelspec": {
   "display_name": "Python 3",
   "language": "python",
   "name": "python3"
  },
  "language_info": {
   "codemirror_mode": {
    "name": "ipython",
    "version": 3
   },
   "file_extension": ".py",
   "mimetype": "text/x-python",
   "name": "python",
   "nbconvert_exporter": "python",
   "pygments_lexer": "ipython3",
   "version": "3.6.7"
  }
 },
 "nbformat": 4,
 "nbformat_minor": 2
}
